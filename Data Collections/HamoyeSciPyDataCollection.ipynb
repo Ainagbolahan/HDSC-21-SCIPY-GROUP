{
  "nbformat": 4,
  "nbformat_minor": 0,
  "metadata": {
    "colab": {
      "name": "HamoyeSciPyDataCollection.ipynb",
      "provenance": []
    },
    "kernelspec": {
      "name": "python3",
      "display_name": "Python 3"
    },
    "language_info": {
      "name": "python"
    }
  },
  "cells": [
    {
      "cell_type": "markdown",
      "metadata": {
        "id": "2FOM4ZKR4xef"
      },
      "source": [
        "<h2> Data Collection Task </h2>"
      ]
    },
    {
      "cell_type": "code",
      "metadata": {
        "id": "p0EwESs9AT9k"
      },
      "source": [
        "#Importing required libraries\n",
        "import numpy as np\n",
        "import pandas as pd "
      ],
      "execution_count": 3,
      "outputs": []
    },
    {
      "cell_type": "code",
      "metadata": {
        "id": "u08rOomUNj89"
      },
      "source": [
        "#Function to add the specified year to the table which were downloaded individually.\n",
        "def addyear(input):\n",
        "  #input is the column used in the expression to create the required year for the data\n",
        "  if input != None:\n",
        "    global year\n",
        "    year = year\n",
        "  return year"
      ],
      "execution_count": 1,
      "outputs": []
    },
    {
      "cell_type": "code",
      "metadata": {
        "id": "nnqBm8_ALSX4"
      },
      "source": [
        "#Function to import the required datasets and merge the data using an inner join on Country/Region name.\n",
        "def mergecolumns(data_1, data_2, column, name):\n",
        "  #data_1 holds value for table containing information about the numbers of students\n",
        "  #data_2 holds value for the table containing information about the rank and scores.\n",
        "  df1 = pd.read_csv(data_1)\n",
        "  df2 = pd.read_csv(data_2)\n",
        "  df = pd.merge(df1, df2, on=column)\n",
        "  df.to_csv(name + \".csv\", index=False)"
      ],
      "execution_count": 2,
      "outputs": []
    },
    {
      "cell_type": "code",
      "metadata": {
        "id": "JBM3bWINN1Yc"
      },
      "source": [
        "table1 = [\"wur_2021.csv\", \"wur_2020.csv\", \"wur_2019.csv\", \"wur_2018.csv\", \"wur_2017.csv\", \"wur_2016.csv\"]\n",
        "table2 = [\"times-higher-edu-2021.csv\", \"times-higher-edu-2020.csv\", \"times-higher-edu-2019.csv\", \"times-higher-edu-2018.csv\", \"times-higher-edu-2017.csv\", \"times-higher-edu-2016.csv\"]\n",
        "lab = [\"wur_2021\", \"wur_2020\", \"wur_2019\", \"wur_2018\", \"wur_2017\", \"wur_2016\"]\n",
        "\n",
        "for i in range(len(table1)):\n",
        "  mergecolumns(table1[i], table2[i], \"NameCountry/Region\", lab[i])"
      ],
      "execution_count": 4,
      "outputs": []
    },
    {
      "cell_type": "code",
      "metadata": {
        "id": "PMk1WRZEMbQO"
      },
      "source": [
        "def useyear(name, yr):\n",
        "  global year\n",
        "  year = yr\n",
        "  df = pd.read_csv(name)\n",
        "  df[\"Year\"] = df[\"NameCountry/Region\"].apply(addyear)\n",
        "  df.to_csv(name, index=False)"
      ],
      "execution_count": 5,
      "outputs": []
    },
    {
      "cell_type": "code",
      "metadata": {
        "id": "jtSPdGUtNfTA"
      },
      "source": [
        "for i in range(len(table1)):\n",
        "  useyear(table1[i], lab[i][4:])"
      ],
      "execution_count": 6,
      "outputs": []
    },
    {
      "cell_type": "code",
      "metadata": {
        "id": "FAIzkk-ASVCs"
      },
      "source": [
        "#append tables\n",
        "df1 = pd.read_csv(\"wur_2021.csv\")\n",
        "df2 = pd.read_csv(\"wur_2020.csv\")\n",
        "df3 = pd.read_csv(\"wur_2019.csv\")\n",
        "df4 = pd.read_csv(\"wur_2018.csv\")\n",
        "df5 = pd.read_csv(\"wur_2017.csv\")\n",
        "df6 = pd.read_csv(\"wur_2016.csv\")"
      ],
      "execution_count": 7,
      "outputs": []
    },
    {
      "cell_type": "code",
      "metadata": {
        "id": "cUyjjZioS2dt"
      },
      "source": [
        "df1 = df1.append(df2)\n",
        "df1 = df1.append(df3)\n",
        "df1 = df1.append(df4)\n",
        "df1 = df1.append(df5)\n",
        "df1 = df1.append(df6)"
      ],
      "execution_count": 8,
      "outputs": []
    },
    {
      "cell_type": "code",
      "metadata": {
        "id": "8wAnSSAWUd7M"
      },
      "source": [
        "df1.to_csv(\"Wurld2016_2021.csv\", index=False)"
      ],
      "execution_count": 9,
      "outputs": []
    },
    {
      "cell_type": "code",
      "metadata": {
        "colab": {
          "base_uri": "https://localhost:8080/"
        },
        "id": "KwavwdjGUmhK",
        "outputId": "bb64edf4-8df2-4ca6-f7ce-b2dda8d600c8"
      },
      "source": [
        "data = pd.read_csv(\"Wurld2016_2021.csv\")\n",
        "len(data.index)"
      ],
      "execution_count": 10,
      "outputs": [
        {
          "output_type": "execute_result",
          "data": {
            "text/plain": [
              "7054"
            ]
          },
          "metadata": {},
          "execution_count": 10
        }
      ]
    },
    {
      "cell_type": "code",
      "metadata": {
        "id": "DZMTgeaIUxuD"
      },
      "source": [
        ""
      ],
      "execution_count": null,
      "outputs": []
    }
  ]
}