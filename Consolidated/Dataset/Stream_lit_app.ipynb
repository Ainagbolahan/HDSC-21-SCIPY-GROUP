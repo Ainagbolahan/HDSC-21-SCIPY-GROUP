{
 "cells": [
  {
   "cell_type": "code",
   "execution_count": 7,
   "id": "bc1d9dc5",
   "metadata": {},
   "outputs": [],
   "source": [
    "#np.array( [[scaled_features]].values.reshape(-1, 1)"
   ]
  },
  {
   "cell_type": "code",
   "execution_count": 27,
   "id": "a57b5f94",
   "metadata": {},
   "outputs": [],
   "source": [
    "import pickle\n",
    "import streamlit as st\n",
    "import numpy as np\n",
    "import pandas as pd\n",
    "\n",
    "# loading the trained model\n",
    "pickle_in = open('svr_model.pkl', 'rb') \n",
    "classifier = pickle.load(pickle_in)\n",
    "\n",
    "@st.cache()\n",
    "\n",
    "# defining the function which will make the prediction using the data which the user inputs \n",
    "def prediction(University_name,No_of_FTE_Students,No_of_students_per_staff,International_Students,Teaching,Research,Citations,Industry_Income,International_Outlook,Year,Country):\n",
    "    University_name = [\" \"]\n",
    "    Country = [\" \"]\n",
    "    from sklearn.preprocessing import LabelEncoder\n",
    "    le = LabelEncoder()\n",
    "    University_name = le.fit_transform(University_name)\n",
    "    Country = le.fit_transform(Country)\n",
    "    \n",
    " \n",
    "\n",
    "# Making predictions \n",
    "    prediction = classifier.predict([[University_name,No_of_FTE_Students,No_of_students_per_staff,International_Students,\n",
    "               Teaching,Research,Citations,Industry_Income,International_Outlook,Year,Country]])\n",
    "\n",
    "    if prediction <= 0:\n",
    "        pred = 'Confirm Accuracy of your data'\n",
    "    else:\n",
    "        pred = 'Your Rank Score is {}'.format(prediction)\n",
    "    return pred\n",
    "\n",
    "\n",
    "#this is the main function in which we define our webpage  \n",
    "def main(): \n",
    "    \n",
    "#front end elements of the web page \n",
    "\n",
    "    html_temp = \"\"\" \n",
    "    <div style =\"background-color:yellow;padding:13px\"> \n",
    "    <h1 style =\"color:black;text-align:center;\">Streamlit University Ranking ML App</h1> \n",
    "    </div> \n",
    "    \"\"\"\n",
    "\n",
    "#display the front end aspect\n",
    "    st.markdown(html_temp, unsafe_allow_html = True) \n",
    "\n",
    "#following lines create boxes in which user can enter data required to make prediction \n",
    "    No_of_FTE_Students = st.number_input(\"No_of_FTE_Students\")\n",
    "    No_of_students_per_staff = st.number_input(\"No_of_students_per_staff\")\n",
    "    International_Students = st.number_input('International_Students')\n",
    "    Teaching = st.number_input(\"Teaching\")\n",
    "    Research = st.number_input(\"Research\")\n",
    "    Citations = st.number_input(\"Citations\")\n",
    "    Industry_Income = st.number_input(\"Industry_Income\")\n",
    "    International_Outlook = st.number_input(\"International_Outlook\")  \n",
    "    Year = st.number_input(\"Year\") \n",
    "    University_name = st.text_input(\"University Name\")\n",
    "    Country = st.text_input(\"Country Name \")\n",
    "     \n",
    "    result =\"\"\n",
    "\n",
    "#when 'Predict' is clicked, make the prediction and store it \n",
    "    if st.button(\"Predict\"): \n",
    "        result = prediction(University_name,No_of_FTE_Students,No_of_students_per_staff,International_Students,Teaching,Research,Citations,Industry_Income,International_Outlook,Year,Country)\n",
    "\n",
    "        st.success('Your school ranks {}'.format(result))\n",
    "\n",
    "\n",
    "if __name__=='__main__': \n",
    "    main()"
   ]
  },
  {
   "cell_type": "code",
   "execution_count": null,
   "id": "3a83d681",
   "metadata": {},
   "outputs": [],
   "source": []
  },
  {
   "cell_type": "code",
   "execution_count": 25,
   "id": "3efac4d9",
   "metadata": {},
   "outputs": [],
   "source": [
    "University_name = [\"Uniben\"]\n",
    "Country = [\"Niger\"]\n",
    "\n",
    "from sklearn.preprocessing import LabelEncoder\n",
    "le = LabelEncoder()\n",
    "University_name = le.fit_transform(University_name)\n",
    "Country = le.fit_transform(Country)"
   ]
  },
  {
   "cell_type": "code",
   "execution_count": 26,
   "id": "b233438c",
   "metadata": {},
   "outputs": [
    {
     "data": {
      "text/plain": [
       "array([0], dtype=int64)"
      ]
     },
     "execution_count": 26,
     "metadata": {},
     "output_type": "execute_result"
    }
   ],
   "source": [
    "Country"
   ]
  },
  {
   "cell_type": "code",
   "execution_count": null,
   "id": "620fe7de",
   "metadata": {},
   "outputs": [],
   "source": []
  }
 ],
 "metadata": {
  "kernelspec": {
   "display_name": "Python 3 (ipykernel)",
   "language": "python",
   "name": "python3"
  },
  "language_info": {
   "codemirror_mode": {
    "name": "ipython",
    "version": 3
   },
   "file_extension": ".py",
   "mimetype": "text/x-python",
   "name": "python",
   "nbconvert_exporter": "python",
   "pygments_lexer": "ipython3",
   "version": "3.9.2"
  }
 },
 "nbformat": 4,
 "nbformat_minor": 5
}
